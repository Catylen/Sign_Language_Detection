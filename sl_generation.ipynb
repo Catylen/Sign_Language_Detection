{
 "cells": [
  {
   "cell_type": "code",
   "execution_count": 2,
   "metadata": {},
   "outputs": [
    {
     "name": "stdout",
     "output_type": "stream",
     "text": [
      "Collecting images for Why\n"
     ]
    }
   ],
   "source": [
    "import os\n",
    "import cv2\n",
    "import time\n",
    "import uuid\n",
    "\n",
    "IMAGE_PATH = 'CollectedImages'\n",
    "#labels = ['Pray', 'Why', 'Calm_Down', 'Stop', 'Stand', 'Money', 'Water']\n",
    "labels = ['Why']\n",
    "number_of_images = 20\n",
    "\n",
    "for label in labels:\n",
    "    img_path = os.path.join(IMAGE_PATH, label)\n",
    "    os.makedirs(img_path, exist_ok=True)\n",
    "    cap = cv2.VideoCapture(0)\n",
    "    print('Collecting images for {}'.format(label))\n",
    "    time.sleep(5)  # Wait for camera warm-up\n",
    "    for imgnum in range(number_of_images):\n",
    "        ret, frame = cap.read()\n",
    "        if not ret:\n",
    "            print(\"Failed to capture image\")\n",
    "            break\n",
    "        imagename = os.path.join(IMAGE_PATH, label, '{}_{}.jpg'.format(label, str(uuid.uuid1())[:5]))\n",
    "        cv2.imwrite(imagename, frame)\n",
    "        time.sleep(2)\n",
    "        cv2.imshow('frame', frame)\n",
    "        if cv2.waitKey(1) & 0xFF == ord('q'):\n",
    "            break\n",
    "    cap.release()\n",
    "\n",
    "cv2.destroyAllWindows()\n"
   ]
  },
  {
   "cell_type": "code",
   "execution_count": 1,
   "metadata": {},
   "outputs": [
    {
     "name": "stdout",
     "output_type": "stream",
     "text": [
      "Collecting images for Calm_Down3\n",
      "Collecting images for Money3\n",
      "Collecting images for Pray3\n",
      "Collecting images for Stand3\n",
      "Collecting images for Stop3\n",
      "Collecting images for Water3\n",
      "Collecting images for Why3\n"
     ]
    },
    {
     "ename": "",
     "evalue": "",
     "output_type": "error",
     "traceback": [
      "\u001b[1;31mThe Kernel crashed while executing code in the the current cell or a previous cell. Please review the code in the cell(s) to identify a possible cause of the failure. Click <a href='https://aka.ms/vscodeJupyterKernelCrash'>here</a> for more info. View Jupyter <a href='command:jupyter.viewOutput'>log</a> for further details."
     ]
    }
   ],
   "source": [
    "import os\n",
    "import cv2\n",
    "import time\n",
    "import uuid\n",
    "\n",
    "IMAGE_PATH='CollectedImages'\n",
    "\n",
    "labels=[\"Calm_Down3\", \"Money3\", \"Pray3\", \"Stand3\", \"Stop3\", \"Water3\", \"Why3\"]\n",
    "\n",
    "number_of_images=20\n",
    "\n",
    "for label in labels:\n",
    "    img_path = os.path.join(IMAGE_PATH, label)\n",
    "    os.makedirs(img_path)\n",
    "    cap=cv2.VideoCapture(0)\n",
    "    print('Collecting images for {}'.format(label))\n",
    "    time.sleep(5)\n",
    "    for imgnum in range(number_of_images):\n",
    "        ret,frame=cap.read()\n",
    "        imagename=os.path.join(IMAGE_PATH,label,label+'.'+'{}.jpg'.format(str(uuid.uuid1())))\n",
    "        cv2.imwrite(imagename,frame)\n",
    "        cv2.imshow('frame',frame)\n",
    "        time.sleep(2)\n",
    "        \n",
    "        if cv2.waitKey(1) & 0xFF==ord('q'):\n",
    "            break\n",
    "    cap.release()"
   ]
  },
  {
   "cell_type": "code",
   "execution_count": null,
   "metadata": {},
   "outputs": [],
   "source": []
  }
 ],
 "metadata": {
  "kernelspec": {
   "display_name": "Python 3",
   "language": "python",
   "name": "python3"
  },
  "language_info": {
   "codemirror_mode": {
    "name": "ipython",
    "version": 3
   },
   "file_extension": ".py",
   "mimetype": "text/x-python",
   "name": "python",
   "nbconvert_exporter": "python",
   "pygments_lexer": "ipython3",
   "version": "3.9.2"
  }
 },
 "nbformat": 4,
 "nbformat_minor": 2
}
